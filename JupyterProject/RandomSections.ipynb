{
 "cells": [
  {
   "cell_type": "code",
   "execution_count": null,
   "metadata": {},
   "outputs": [],
   "source": [
    "# Install a pip package in the current Jupyter kernel\n",
    "# Uncomment and Run this cell if your kernel doesn't have numpy and pandas installed\n",
    "\n",
    "import sys\n",
    "!{sys.executable} -m pip install pypdf2\n",
    "#!{sys.executable} -m pip install numpy\n",
    "#!{sys.executable} -m pip install pandas\n"
   ]
  },
  {
   "cell_type": "markdown",
   "metadata": {},
   "source": [
    "# Array Split "
   ]
  },
  {
   "cell_type": "code",
   "execution_count": null,
   "metadata": {},
   "outputs": [],
   "source": [
    "import numpy as np\n",
    "import pandas as pd\n",
    "import math\n",
    "import random\n",
    "\n",
    "#Inputs:\n",
    "#Create list of numbers per page you'd like randomized\n",
    "first_page = 3\n",
    "last_page = 245\n",
    "\n",
    "#How many questions you'd like per section\n",
    "size_of_sections = 10"
   ]
  },
  {
   "cell_type": "markdown",
   "metadata": {},
   "source": [
    "Sets new list numbers *first_page* through *last_page*"
   ]
  },
  {
   "cell_type": "code",
   "execution_count": null,
   "metadata": {},
   "outputs": [],
   "source": [
    "myList= list(range(first_page,last_page+1))\n",
    "myList"
   ]
  },
  {
   "cell_type": "code",
   "execution_count": null,
   "metadata": {},
   "outputs": [],
   "source": [
    "random.shuffle(myList)\n",
    "myList"
   ]
  },
  {
   "cell_type": "markdown",
   "metadata": {},
   "source": [
    "Using array_split to do the splitting into **split_amount** amount of groups, <br>\n",
    "calculating **split_amount** based on the amount of questions wanted per section specified in the Inputs above"
   ]
  },
  {
   "cell_type": "code",
   "execution_count": null,
   "metadata": {
    "scrolled": true
   },
   "outputs": [],
   "source": [
    "split_amount = math.floor(len(myList)/size_of_sections)\n",
    "theArray = np.array_split(myList,split_amount)"
   ]
  },
  {
   "cell_type": "code",
   "execution_count": null,
   "metadata": {},
   "outputs": [],
   "source": [
    "#creates a dataframe from the Array\n",
    "df= pd.DataFrame(theArray)"
   ]
  },
  {
   "cell_type": "code",
   "execution_count": null,
   "metadata": {},
   "outputs": [],
   "source": [
    "#exports the list to a csv file\n",
    "df.to_csv(\"Sections.csv\")"
   ]
  },
  {
   "cell_type": "markdown",
   "metadata": {},
   "source": [
    "---\n",
    "# Pdf Splitting\n",
    "Start Here to Import PDF and then export the pdf sectioned-up\n",
    "\n",
    "**Make sure you ran the code above in order to proceed**"
   ]
  },
  {
   "cell_type": "code",
   "execution_count": null,
   "metadata": {},
   "outputs": [],
   "source": [
    "import PyPDF2\n",
    "import os\n",
    "pdf_path = \"edu-spring-ltam-ques.pdf\"\n",
    "\n",
    "input_file = open(pdf_path, 'rb')\n",
    "\n",
    "pdf = PyPDF2.PdfFileReader(input_file)\n",
    "\n",
    "\n",
    "output_dir = os.path.join(os.getcwd(), r'output')\n",
    "if not os.path.exists(output_dir):\n",
    "   os.makedirs(output_dir)\n",
    "\n",
    "\n",
    "print(len(theArray))\n",
    "#loop through each number in theArray to generate 1 Section#.pdf\n",
    "section = 0\n",
    "while section < len(theArray):\n",
    "    print(section)\n",
    "    #clears prior pdf_writer\n",
    "    pdf_writer = PyPDF2.PdfFileWriter()\n",
    "    \n",
    "    for page_num in theArray[section]:\n",
    "        #pdf is 0-indexed so need to subract 1 to get the right page_num\n",
    "        pageObj = pdf.getPage(page_num - 1)\n",
    "        pdf_writer.addPage(pageObj)\n",
    "        \n",
    "    outputPath= os.path.join(output_dir,f\"Section_{section}.pdf\")\n",
    "    with open(outputPath,\"wb\") as output_file:\n",
    "        pdf_writer.write(output_file)\n",
    "    \n",
    "    \n",
    "    section+= 1\n",
    "\n",
    "input_file.close()"
   ]
  }
 ],
 "metadata": {
  "kernelspec": {
   "display_name": "Python 3",
   "language": "python",
   "name": "python3"
  },
  "language_info": {
   "codemirror_mode": {
    "name": "ipython",
    "version": 3
   },
   "file_extension": ".py",
   "mimetype": "text/x-python",
   "name": "python",
   "nbconvert_exporter": "python",
   "pygments_lexer": "ipython3",
   "version": "3.8.5"
  }
 },
 "nbformat": 4,
 "nbformat_minor": 2
}
